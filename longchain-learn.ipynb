{
 "cells": [
  {
   "cell_type": "code",
   "execution_count": 111,
   "id": "2dc23dfb-18e7-487f-b663-cb0c620ba1e2",
   "metadata": {},
   "outputs": [],
   "source": [
    "from langchain.llms import OpenAI\n",
    "import os\n",
    "\n",
    "llm=OpenAI(openai_api_key=api_key)"
   ]
  },
  {
   "cell_type": "code",
   "execution_count": 13,
   "id": "710bbf26-024d-43ed-87e5-1b83170cdb88",
   "metadata": {},
   "outputs": [
    {
     "name": "stdout",
     "output_type": "stream",
     "text": [
      "\n",
      "\n",
      "Kiccha Sudeepa is the only actor to have played a superhero in three different languages - Kannada, Telugu and Hindi. He was the lead in the Kannada movie 'Kiccha Huccha', the Telugu movie 'Eega' and the Hindi movie 'Dabangg 3'.\n"
     ]
    }
   ],
   "source": [
    "print(llm('here is funny fact about kiccha sudeepa'))"
   ]
  },
  {
   "cell_type": "code",
   "execution_count": 14,
   "id": "5d4402b6-964a-4629-89b7-ec891306fa4e",
   "metadata": {},
   "outputs": [],
   "source": [
    "result=llm.generate(['here is funny fact about puneeth rajkumar','here is funny fact about yash'])"
   ]
  },
  {
   "cell_type": "code",
   "execution_count": 16,
   "id": "2d746461-ae7b-4dde-b0b0-49e2ae852d82",
   "metadata": {},
   "outputs": [
    {
     "data": {
      "text/plain": [
       "{'token_usage': {'total_tokens': 88,\n",
       "  'completion_tokens': 69,\n",
       "  'prompt_tokens': 19},\n",
       " 'model_name': 'text-davinci-003'}"
      ]
     },
     "execution_count": 16,
     "metadata": {},
     "output_type": "execute_result"
    }
   ],
   "source": [
    "result.llm_output"
   ]
  },
  {
   "cell_type": "code",
   "execution_count": 17,
   "id": "5f3af754-0eba-4ac0-a0b2-15a853665519",
   "metadata": {},
   "outputs": [
    {
     "data": {
      "text/plain": [
       "[[Generation(text='\\n\\nPuneeth Rajkumar is known for his energetic dance moves, which often involve a lot of jumping and spinning. He has even performed a backflip on stage during a performance.', generation_info={'finish_reason': 'stop', 'logprobs': None})],\n",
       " [Generation(text='\\n\\nYash once attempted to break the world record for eating the most pancakes in one sitting, but failed miserably after eating only five!', generation_info={'finish_reason': 'stop', 'logprobs': None})]]"
      ]
     },
     "execution_count": 17,
     "metadata": {},
     "output_type": "execute_result"
    }
   ],
   "source": [
    "result.generations"
   ]
  },
  {
   "cell_type": "code",
   "execution_count": 22,
   "id": "1b5f7248-08cc-4895-a1f9-4809ff2f89d0",
   "metadata": {},
   "outputs": [],
   "source": [
    "from langchain.chat_models import ChatOpenAI\n",
    "chat=ChatOpenAI(openai_api_key=api_key)\n",
    "from langchain.schema  import AIMessage, HumanMessage, SystemMessage\n",
    "result=chat([SystemMessage(content=\"your are an rude teenager, who always drinks and parties and never answer any questions\"),HumanMessage(content=\"tell me fact about isro\")])"
   ]
  },
  {
   "cell_type": "code",
   "execution_count": 36,
   "id": "f7ada936-a116-474e-8de7-c97bb0d01358",
   "metadata": {},
   "outputs": [
    {
     "data": {
      "text/plain": [
       "'Oh well, buckaroo! Who cares if Shivaydadllen junk Farichanaổisometimesillow'"
      ]
     },
     "execution_count": 36,
     "metadata": {},
     "output_type": "execute_result"
    }
   ],
   "source": [
    "result.content"
   ]
  },
  {
   "cell_type": "code",
   "execution_count": 41,
   "id": "8b222cbc-7635-458e-904e-b9822fc6ef4a",
   "metadata": {},
   "outputs": [],
   "source": [
    "result=chat([SystemMessage(content=\"your are an rude teenager, who always drinks and parties and never answer any questions\"),HumanMessage(content=\"tell me fact about isro\")],temperature=0, presence_penalty=1,max_tokens=20)\n"
   ]
  },
  {
   "cell_type": "code",
   "execution_count": 42,
   "id": "7a428305-9635-4a93-81be-60a23f996e4d",
   "metadata": {},
   "outputs": [
    {
     "data": {
      "text/plain": [
       "\"I don't care about ISRO or any other space agency. I'm too busy partying and\""
      ]
     },
     "execution_count": 42,
     "metadata": {},
     "output_type": "execute_result"
    }
   ],
   "source": [
    "result.content"
   ]
  },
  {
   "cell_type": "code",
   "execution_count": 43,
   "id": "fcc894ea-c349-493a-b954-49419179f973",
   "metadata": {},
   "outputs": [
    {
     "data": {
      "text/plain": [
       "'\\n\\nThe Moon has no atmosphere and is the second-brightest object in the night sky after the Sun.'"
      ]
     },
     "execution_count": 43,
     "metadata": {},
     "output_type": "execute_result"
    }
   ],
   "source": [
    "import langchain\n",
    "from langchain.cache import InMemoryCache\n",
    "langchain.llm_cache=InMemoryCache()\n",
    "\n",
    "llm.predict('tell me a fact about moon')"
   ]
  },
  {
   "cell_type": "code",
   "execution_count": 44,
   "id": "062634f2-5f66-444b-945e-3d260b6ea0c5",
   "metadata": {},
   "outputs": [
    {
     "data": {
      "text/plain": [
       "'\\n\\nThe Moon has no atmosphere and is the second-brightest object in the night sky after the Sun.'"
      ]
     },
     "execution_count": 44,
     "metadata": {},
     "output_type": "execute_result"
    }
   ],
   "source": [
    "llm.predict('tell me a fact about moon')"
   ]
  },
  {
   "cell_type": "code",
   "execution_count": 45,
   "id": "d90f6c4e-c9b5-4c58-baa3-90a272cf3c46",
   "metadata": {},
   "outputs": [
    {
     "data": {
      "text/plain": [
       "'\\n\\nThe Sun is over 4.5 billion years old and is composed mostly of hydrogen and helium.'"
      ]
     },
     "execution_count": 45,
     "metadata": {},
     "output_type": "execute_result"
    }
   ],
   "source": [
    "llm.predict('tell me a fact about sun')"
   ]
  },
  {
   "cell_type": "code",
   "execution_count": 46,
   "id": "e8fd539d-cb2b-4d51-b5d0-cfc19aab3242",
   "metadata": {},
   "outputs": [
    {
     "data": {
      "text/plain": [
       "'\\n\\nThe Sun is over 4.5 billion years old and is composed mostly of hydrogen and helium.'"
      ]
     },
     "execution_count": 46,
     "metadata": {},
     "output_type": "execute_result"
    }
   ],
   "source": [
    "llm.predict('tell me a fact about sun')"
   ]
  },
  {
   "cell_type": "code",
   "execution_count": 8,
   "id": "bc0ab810-1346-470e-a5c4-91a84038f500",
   "metadata": {},
   "outputs": [],
   "source": [
    "from langchain import PromptTemplate\n",
    "multi_input_prompt=PromptTemplate(input_variables=['topic','level'],template='Tell me fact about {topic} for a {level} student')"
   ]
  },
  {
   "cell_type": "code",
   "execution_count": 12,
   "id": "79101fcc-8be6-4c2c-8256-feb6d360a4f9",
   "metadata": {},
   "outputs": [
    {
     "data": {
      "text/plain": [
       "'\\n\\nISRO stands for Indian Space Research Organisation. It is a space agency of the Government of India, headquartered in Bengaluru. ISRO was founded in 1969 and is responsible for the development of space technology and its applications for national benefit.'"
      ]
     },
     "execution_count": 12,
     "metadata": {},
     "output_type": "execute_result"
    }
   ],
   "source": [
    "llm(multi_input_prompt.format(topic=\"isro\", level=\"pre-nursery student\"))"
   ]
  },
  {
   "cell_type": "code",
   "execution_count": 13,
   "id": "d6c68ed8-3a11-4103-8ba6-6c2eb328f0e0",
   "metadata": {},
   "outputs": [
    {
     "data": {
      "text/plain": [
       "\"\\n\\nIndian Space Research Organisation (ISRO) is India's premier space agency and is the world's fourth largest space agency after NASA, ESA, and Roscosmos. It was established in 1969 and is headquartered in Bangalore, Karnataka. ISRO has launched several successful missions such as Chandrayaan-1, Mangalyaan, and the recently launched Chandrayaan-2. ISRO has developed many advanced space technologies such as cryogenic engines, air-breathing propulsion, and space-based solar power. ISRO is also involved in research and development of satellite navigation technologies such as the Indian Regional Navigation Satellite System (IRNSS).\""
      ]
     },
     "execution_count": 13,
     "metadata": {},
     "output_type": "execute_result"
    }
   ],
   "source": [
    "llm(multi_input_prompt.format(topic=\"isro\", level=\"phd professor\"))\n",
    "\n"
   ]
  },
  {
   "cell_type": "code",
   "execution_count": 22,
   "id": "7c08aefa-a5b9-44b5-9f4c-f40e9fe57c25",
   "metadata": {},
   "outputs": [],
   "source": [
    "from langchain.chat_models import ChatOpenAI\n",
    "chat=ChatOpenAI(openai_api_key=api_key)"
   ]
  },
  {
   "cell_type": "code",
   "execution_count": 14,
   "id": "296305d6-fb8b-43f8-bfa8-7a207f187858",
   "metadata": {},
   "outputs": [],
   "source": [
    "from langchain.prompts import ChatPromptTemplate,PromptTemplate,SystemMessagePromptTemplate,HumanMessagePromptTemplate,AIMessagePromptTemplate\n",
    "from langchain.schema import AIMessage,HumanMessage,SystemMessage"
   ]
  },
  {
   "cell_type": "code",
   "execution_count": 19,
   "id": "c8a3d892-f7be-4682-bd80-bb7db12b7360",
   "metadata": {},
   "outputs": [],
   "source": [
    "system_template='Your an AI recipe assistant that specializes in {dietery_preference} dishes that can be prepared in {cooking_time}'\n",
    "system_prompt=SystemMessagePromptTemplate.from_template(system_template)\n",
    "\n",
    "human_template='{recipe_request}'\n",
    "human_prompt=HumanMessagePromptTemplate.from_template(human_template)"
   ]
  },
  {
   "cell_type": "code",
   "execution_count": 16,
   "id": "4adf7fc4-55ed-4d20-956d-15130f268681",
   "metadata": {},
   "outputs": [
    {
     "data": {
      "text/plain": [
       "['cooking_time', 'dietery_preference']"
      ]
     },
     "execution_count": 16,
     "metadata": {},
     "output_type": "execute_result"
    }
   ],
   "source": [
    "system_prompt.input_variables"
   ]
  },
  {
   "cell_type": "code",
   "execution_count": 20,
   "id": "220fc758-0d91-4b3a-9de2-956a79d67cf3",
   "metadata": {},
   "outputs": [],
   "source": [
    "chat_prompt=ChatPromptTemplate.from_messages([system_prompt,human_prompt])"
   ]
  },
  {
   "cell_type": "code",
   "execution_count": 21,
   "id": "11d100c0-bb37-4169-b77e-ff2a0bcc0603",
   "metadata": {},
   "outputs": [
    {
     "data": {
      "text/plain": [
       "['cooking_time', 'dietery_preference', 'recipe_request']"
      ]
     },
     "execution_count": 21,
     "metadata": {},
     "output_type": "execute_result"
    }
   ],
   "source": [
    "chat_prompt.input_variables"
   ]
  },
  {
   "cell_type": "code",
   "execution_count": 26,
   "id": "a8f8ff77-ac72-42ea-9a4e-2726f57777b2",
   "metadata": {},
   "outputs": [],
   "source": [
    "prompt=chat_prompt.format_prompt(cooking_time='60 min',dietery_preference='sea food',recipe_request='Quick snack' ).to_messages()"
   ]
  },
  {
   "cell_type": "code",
   "execution_count": 27,
   "id": "f85089a4-b5ac-4fbe-8228-4a4febd1df38",
   "metadata": {},
   "outputs": [],
   "source": [
    "result=chat(prompt)"
   ]
  },
  {
   "cell_type": "code",
   "execution_count": 29,
   "id": "06ef0516-4988-447d-aaac-5a131ea401da",
   "metadata": {},
   "outputs": [
    {
     "name": "stdout",
     "output_type": "stream",
     "text": [
      "One quick and delicious seafood snack you can prepare in just 60 minutes is Spicy Shrimp Tacos. Here's the recipe:\n",
      "\n",
      "Ingredients:\n",
      "- 1 pound of shrimp, peeled and deveined\n",
      "- 2 tablespoons olive oil\n",
      "- 1 teaspoon chili powder\n",
      "- 1/2 teaspoon cumin\n",
      "- 1/2 teaspoon paprika\n",
      "- 1/4 teaspoon cayenne pepper (adjust to taste)\n",
      "- Salt and pepper to taste\n",
      "- 8 small tortillas\n",
      "- 1 cup shredded lettuce\n",
      "- 1/2 cup diced tomatoes\n",
      "- 1/4 cup diced red onion\n",
      "- 1/4 cup chopped fresh cilantro\n",
      "- Lime wedges for serving\n",
      "\n",
      "Instructions:\n",
      "1. Preheat your grill or a grill pan over medium-high heat.\n",
      "2. In a bowl, combine the olive oil, chili powder, cumin, paprika, cayenne pepper, salt, and pepper. Add the shrimp and toss to coat them evenly with the spice mixture.\n",
      "3. Grill the shrimp for about 2-3 minutes on each side, or until they are cooked through and slightly charred. Remove from the heat and set aside.\n",
      "4. Warm the tortillas on the grill for about 30 seconds on each side, or until they are slightly charred and pliable.\n",
      "5. To assemble the tacos, place a few shrimp on each tortilla. Top with shredded lettuce, diced tomatoes, red onion, and chopped cilantro.\n",
      "6. Squeeze fresh lime juice over the tacos and serve immediately.\n",
      "\n",
      "These Spicy Shrimp Tacos are quick, flavorful, and perfect for a snack or light meal. Enjoy!\n"
     ]
    }
   ],
   "source": [
    "print(result.content)"
   ]
  },
  {
   "cell_type": "code",
   "execution_count": 47,
   "id": "ea9f64cd-cadb-4a64-8b20-b62008043453",
   "metadata": {},
   "outputs": [
    {
     "name": "stdout",
     "output_type": "stream",
     "text": [
      "ನಾನು ನಾಯಿಗಳನ್ನು ಪ್ರೀತಿಸುತ್ತೇನೆ (Nānu nāyigaḷannu prītisuttēne)\n"
     ]
    }
   ],
   "source": [
    "from langchain.prompts.chat import ChatPromptTemplate\n",
    "\n",
    "template = \"You are a helpful assistant that translates {input_language} to {output_language}.\"\n",
    "human_template = \"{text}\"\n",
    "\n",
    "chat_prompt = ChatPromptTemplate.from_messages([\n",
    "    (\"system\", template),\n",
    "    (\"human\", human_template),\n",
    "])\n",
    "\n",
    "prompt=chat_prompt.format_messages(input_language=\"English\", output_language=\"Kannada\", text=\"I love dogs\")\n",
    "result=chat(prompt)\n",
    "print(result.content)"
   ]
  },
  {
   "cell_type": "code",
   "execution_count": 38,
   "id": "b4b04f69-5237-47dc-9d54-853cc5a2b4be",
   "metadata": {},
   "outputs": [],
   "source": [
    "from langchain.chat_models import ChatOpenAI\n",
    "chat=ChatOpenAI(openai_api_key=api_key)\n",
    "\n",
    "from langchain.prompts import ChatPromptTemplate,PromptTemplate,SystemMessagePromptTemplate,HumanMessagePromptTemplate,AIMessagePromptTemplate\n",
    "from langchain.schema import AIMessage,HumanMessage,SystemMessage"
   ]
  },
  {
   "cell_type": "code",
   "execution_count": 45,
   "id": "db8b69e8-afe4-41cf-9943-2399db3b35bf",
   "metadata": {},
   "outputs": [
    {
     "name": "stdout",
     "output_type": "stream",
     "text": [
      "Great! With a budget of 4000 RS, here's a hiking trip plan from Bengaluru:\n",
      "\n",
      "Destination: Nandi Hills\n",
      "Duration: 2 days, 1 night\n",
      "\n",
      "Day 1:\n",
      "- Start your day early and make your way to Nandi Hills, located about 60 km from Bengaluru.\n",
      "- Take a local bus or hire a taxi to reach the base of Nandi Hills.\n",
      "- Begin your hike to the top of the hill, enjoying the scenic beauty and fresh air along the way. The hike usually takes around 2-3 hours.\n",
      "- Once you reach the top, explore the ancient Nandi Temple and enjoy the panoramic view of the surrounding landscape.\n",
      "- You can also visit Tipu Sultan's Summer Palace, located nearby.\n",
      "- In the evening, find a comfortable spot to witness the stunning sunset from the hilltop.\n",
      "- After sunset, check-in to a budget-friendly accommodation near Nandi Hills for a good night's sleep.\n",
      "\n",
      "Day 2:\n",
      "- Wake up early to catch the beautiful sunrise from the hilltop.\n",
      "- Explore the surrounding areas and take a leisurely walk around the hills.\n",
      "- Visit the Bhoga Nandeeshwara Temple, known for its beautiful architecture and serene surroundings.\n",
      "- Enjoy a picnic breakfast amidst nature before heading back to Bengaluru.\n",
      "- Return to Bengaluru by bus or taxi, ending your hiking trip to Nandi Hills.\n",
      "\n",
      "Expenses:\n",
      "- Transportation: Approximately 800 RS for round trip bus fare or shared taxi.\n",
      "- Accommodation: Budget-friendly accommodations near Nandi Hills start at around 1000 RS per night.\n",
      "- Food: Budget around 1000 RS for meals and snacks for the duration of the trip.\n",
      "- Miscellaneous: Keep around 1200 RS for any additional expenses such as entry fees, local transportation, etc.\n",
      "\n",
      "Note: Prices may vary depending on the season and availability. It's always advisable to check the latest prices and make necessary bookings in advance.\n",
      "\n",
      "Enjoy your hiking trip to Nandi Hills within your budget!\n"
     ]
    }
   ],
   "source": [
    "def travel_idea(interest, budget, fromPlace):\n",
    "    system_template='Your an trip planner expert, who can plan a trip for person in budget of {budget} from {fromPlace}'\n",
    "    system_prompt=SystemMessagePromptTemplate.from_template(system_template)\n",
    "    human_template='Interested in {interest}'\n",
    "    human_prompt=HumanMessagePromptTemplate.from_template(human_template)\n",
    "    chat_prompt=ChatPromptTemplate.from_messages([system_prompt,human_template])\n",
    "    prompt=chat_prompt.format_prompt(interest=interest,budget=budget,fromPlace=fromPlace).to_messages()\n",
    "    result=chat(prompt)\n",
    "    return result.content\n",
    "print(travel_idea(\"Hiking\", \"4000 RS\", \"Bengaluru\"))"
   ]
  },
  {
   "cell_type": "code",
   "execution_count": 64,
   "id": "8620156d-eb34-4c70-b021-b2663af260d2",
   "metadata": {},
   "outputs": [],
   "source": [
    "from langchain.chat_models import ChatOpenAI\n",
    "model=ChatOpenAI(openai_api_key=api_key)\n",
    "\n",
    "from langchain.prompts import ChatPromptTemplate,PromptTemplate,SystemMessagePromptTemplate,HumanMessagePromptTemplate,AIMessagePromptTemplate\n",
    "from langchain.schema import AIMessage,HumanMessage,SystemMessage\n",
    "from langchain.output_parsers import CommaSeparatedListOutputParser\n",
    "\n",
    "output_parser=CommaSeparatedListOutputParser()\n",
    "\n"
   ]
  },
  {
   "cell_type": "code",
   "execution_count": 52,
   "id": "1a593bfd-ba34-44ba-8a6f-c509fb8b6b9d",
   "metadata": {},
   "outputs": [
    {
     "data": {
      "text/plain": [
       "'Your response should be a list of comma separated values, eg: `foo, bar, baz`'"
      ]
     },
     "execution_count": 52,
     "metadata": {},
     "output_type": "execute_result"
    }
   ],
   "source": [
    "output_parser.get_format_instructions()"
   ]
  },
  {
   "cell_type": "code",
   "execution_count": 53,
   "id": "a895e1a0-d821-4875-812d-2e2db482904c",
   "metadata": {},
   "outputs": [
    {
     "data": {
      "text/plain": [
       "['rama', 'shama', 'bahma']"
      ]
     },
     "execution_count": 53,
     "metadata": {},
     "output_type": "execute_result"
    }
   ],
   "source": [
    "dogs=\"rama, shama, bahma\"\n",
    "\n",
    "output_parser.parse(dogs)"
   ]
  },
  {
   "cell_type": "code",
   "execution_count": 60,
   "id": "72558c53-3549-4eb0-b9c4-370144f1130c",
   "metadata": {},
   "outputs": [
    {
     "data": {
      "text/plain": [
       "['Mungaru Male',\n",
       " 'Lucia',\n",
       " 'KGF',\n",
       " 'Ugramm',\n",
       " 'RangiTaranga',\n",
       " 'Kirik Party',\n",
       " 'Ulidavaru Kandanthe',\n",
       " 'Aatagara',\n",
       " 'Kendasampige',\n",
       " 'Dia',\n",
       " 'Love Mocktail',\n",
       " 'Sarkari Hiriya Prathamika Shale Kasaragodu',\n",
       " 'Gantumoote',\n",
       " 'Thithi',\n",
       " 'Godhi Banna Sadharana Mykattu',\n",
       " 'Ondu Motteya Kathe',\n",
       " 'Avane Srimannarayana']"
      ]
     },
     "execution_count": 60,
     "metadata": {},
     "output_type": "execute_result"
    }
   ],
   "source": [
    "human_prompt=HumanMessagePromptTemplate.from_template('{request}\\n {format_instructions}')\n",
    "chat_prompt=ChatPromptTemplate.from_messages([human_prompt])\n",
    "\n",
    "model_request=chat_prompt.format_prompt(request=\"Give me good Kannada movies\",format_instructions=output_parser.get_format_instructions()).to_messages()\n",
    "result=model(model_request)\n",
    "\n",
    "output_parser.parse(result.content)"
   ]
  },
  {
   "cell_type": "code",
   "execution_count": 102,
   "id": "ff5c677c-91e5-4c25-9245-fd6c7c38fd21",
   "metadata": {
    "scrolled": true
   },
   "outputs": [],
   "source": [
    "from langchain.chat_models import ChatOpenAI\n",
    "model=ChatOpenAI(openai_api_key=api_key)\n",
    "\n",
    "from langchain.output_parsers import DatetimeOutputParser, OutputFixingParser\n",
    "output_parser=DatetimeOutputParser()\n",
    "output_parser.get_format_instructions()\n",
    "\n",
    "human_prompt=HumanMessagePromptTemplate.from_template('{request}\\n {format_instructions}')\n",
    "system_prompt=SystemMessagePromptTemplate.from_template('You always return answer to question only in datetime patterns')\n",
    "\n",
    "chat_prompt=ChatPromptTemplate.from_messages([human_prompt,system_prompt])\n",
    "\n",
    "model_request=chat_prompt.format_prompt(request=\"First kannada movie release date\",format_instructions={output_parser.get_format_instructions()}).to_messages()\n",
    "\n",
    "result=model(model_request,temperature=0)\n"
   ]
  },
  {
   "cell_type": "code",
   "execution_count": 103,
   "id": "5978102d-fe88-4f96-a86e-d36a514a8021",
   "metadata": {},
   "outputs": [],
   "source": [
    "\n",
    "\n",
    "new_parser=OutputFixingParser.from_llm(parser=output_parser,llm=model)"
   ]
  },
  {
   "cell_type": "code",
   "execution_count": 104,
   "id": "08268686-9c67-43d7-80c6-10557dc9a6b1",
   "metadata": {},
   "outputs": [
    {
     "name": "stdout",
     "output_type": "stream",
     "text": [
      "I apologize for the confusion. The first Kannada movie, \"Sati Sulochana,\" was released on April 3, 1934.\n"
     ]
    },
    {
     "data": {
      "text/plain": [
       "datetime.datetime(2010, 5, 15, 12, 30, 45, 123456)"
      ]
     },
     "execution_count": 104,
     "metadata": {},
     "output_type": "execute_result"
    }
   ],
   "source": [
    "print(result.content)\n",
    "\n",
    "new_parser.parse(result.content)"
   ]
  },
  {
   "cell_type": "code",
   "execution_count": 105,
   "id": "5d80e777-6cd1-4308-b990-9c683e7b7fd1",
   "metadata": {},
   "outputs": [
    {
     "name": "stdout",
     "output_type": "stream",
     "text": [
      "Requirement already satisfied: pydantic in /usr/local/lib/python3.10/dist-packages (2.3.0)\n",
      "Requirement already satisfied: typing-extensions>=4.6.1 in /usr/local/lib/python3.10/dist-packages (from pydantic) (4.8.0)\n",
      "Requirement already satisfied: pydantic-core==2.6.3 in /usr/local/lib/python3.10/dist-packages (from pydantic) (2.6.3)\n",
      "Requirement already satisfied: annotated-types>=0.4.0 in /usr/local/lib/python3.10/dist-packages (from pydantic) (0.5.0)\n",
      "\u001b[33mWARNING: Running pip as the 'root' user can result in broken permissions and conflicting behaviour with the system package manager. It is recommended to use a virtual environment instead: https://pip.pypa.io/warnings/venv\u001b[0m\u001b[33m\n",
      "\u001b[0mNote: you may need to restart the kernel to use updated packages.\n"
     ]
    }
   ],
   "source": [
    "pip install pydantic"
   ]
  },
  {
   "cell_type": "code",
   "execution_count": 112,
   "id": "cb41c451-4efa-479f-af49-afef400dcf24",
   "metadata": {},
   "outputs": [
    {
     "name": "stdout",
     "output_type": "stream",
     "text": [
      "The output should be formatted as a JSON instance that conforms to the JSON schema below.\n",
      "\n",
      "As an example, for the schema {\"properties\": {\"foo\": {\"title\": \"Foo\", \"description\": \"a list of strings\", \"type\": \"array\", \"items\": {\"type\": \"string\"}}}, \"required\": [\"foo\"]}\n",
      "the object {\"foo\": [\"bar\", \"baz\"]} is a well-formatted instance of the schema. The object {\"properties\": {\"foo\": [\"bar\", \"baz\"]}} is not well-formatted.\n",
      "\n",
      "Here is the output schema:\n",
      "```\n",
      "{\"properties\": {\"name\": {\"description\": \"Name of a Scientist\", \"title\": \"Name\", \"type\": \"string\"}, \"discoveries\": {\"description\": \"Python list of discoveries\", \"items\": {}, \"title\": \"Discoveries\", \"type\": \"array\"}}, \"required\": [\"name\", \"discoveries\"]}\n",
      "```\n"
     ]
    }
   ],
   "source": [
    "from langchain.chat_models import ChatOpenAI\n",
    "model=ChatOpenAI(openai_api_key=api_key)\n",
    "\n",
    "from langchain.prompts import ChatPromptTemplate,PromptTemplate,SystemMessagePromptTemplate,HumanMessagePromptTemplate,AIMessagePromptTemplate\n",
    "from langchain.schema import AIMessage,HumanMessage,SystemMessage\n",
    "\n",
    "from langchain.output_parsers import PydanticOutputParser\n",
    "from pydantic import BaseModel, Field\n",
    "\n",
    "class Scientist(BaseModel):\n",
    "    name:str=Field(description=\"Name of a Scientist\")\n",
    "    discoveries:list=Field(description=\"Python list of discoveries\")\n",
    "\n",
    "output_parser=PydanticOutputParser(pydantic_object=Scientist)\n",
    "\n",
    "human_prompt=HumanMessagePromptTemplate.from_template(\"{request}\\n {format_instruction}\")\n",
    "system_prompt=SystemMessagePromptTemplate.from_template(\"You are an Expert in Science discoveries\")\n",
    "\n",
    "chat_prompt=ChatPromptTemplate.from_messages([human_prompt,system_prompt])\n",
    "\n",
    "print(output_parser.get_format_instructions())"
   ]
  },
  {
   "cell_type": "code",
   "execution_count": 119,
   "id": "758b72a6-0703-4824-9fa4-61258693f451",
   "metadata": {},
   "outputs": [],
   "source": [
    "prompt_request=chat_prompt.format_prompt(request=\"Give a famous scientist name and his list of discoveries\",format_instruction=output_parser.get_format_instructions()).to_messages()\n",
    "\n",
    "result=model(prompt_request,temperature=0)"
   ]
  },
  {
   "cell_type": "code",
   "execution_count": 121,
   "id": "893211d3-a1f9-4a03-8bf4-f3756127d4d6",
   "metadata": {},
   "outputs": [
    {
     "name": "stdout",
     "output_type": "stream",
     "text": [
      "name='Albert Einstein' discoveries=['Theory of Relativity', 'Photoelectric Effect', 'Brownian Motion', 'Mass-Energy Equivalence']\n"
     ]
    }
   ],
   "source": [
    "print(output_parser.parse(result.content))"
   ]
  },
  {
   "cell_type": "code",
   "execution_count": 129,
   "id": "2710c3fa-5f4d-4a48-8a09-bcfa68b7c140",
   "metadata": {},
   "outputs": [
    {
     "name": "stdout",
     "output_type": "stream",
     "text": [
      "\n",
      "\n",
      "The Sun is the closest star to Earth, and is about 93 million miles away.\n"
     ]
    }
   ],
   "source": [
    "from langchain.prompts import PromptTemplate\n",
    "llm=OpenAI(openai_api_key=api_key)\n",
    "\n",
    "template=\"Tell me a fact about {planet}\"\n",
    "prompt=PromptTemplate(template=template,input_variables=[\"planet\"])\n",
    "request=prompt.format(planet=\"sun\")\n",
    "result=llm(request)\n",
    "\n",
    "print(result)\n",
    "\n",
    "prompt.save(\"my-prompt.json\")"
   ]
  },
  {
   "cell_type": "code",
   "execution_count": 125,
   "id": "05dbd938-e1db-4d3c-bd6f-2eb531e41426",
   "metadata": {},
   "outputs": [
    {
     "data": {
      "text/plain": [
       "PromptTemplate(input_variables=['planet'], output_parser=None, partial_variables={}, template='Tell me a fact about {planet}', template_format='f-string', validate_template=True)"
      ]
     },
     "execution_count": 125,
     "metadata": {},
     "output_type": "execute_result"
    }
   ],
   "source": [
    "from langchain.prompts import load_prompt\n",
    "\n",
    "loaded_prompt=load_prompt(\"my-prompt.json\")\n",
    "\n",
    "loaded_prompt"
   ]
  },
  {
   "cell_type": "code",
   "execution_count": 140,
   "id": "91c17cad-4057-4c2b-a3ba-1ab80d90ed73",
   "metadata": {},
   "outputs": [
    {
     "name": "stdout",
     "output_type": "stream",
     "text": [
      "What date did India gain independence from British colonial rule?\n",
      "1947-08-15T00:00:00.000000Z\n",
      "1947-08-15 00:00:00\n",
      "What date did India gain independence from British colonial rule?\n"
     ]
    },
    {
     "name": "stdin",
     "output_type": "stream",
     "text": [
      "Enter the year:  1947\n",
      "Enter the month (1-12):  8\n",
      "Enter the day (1-31):  15\n"
     ]
    },
    {
     "name": "stdout",
     "output_type": "stream",
     "text": [
      "1947-08-15 00:00:00\n",
      "The difference between the dates is: 0:00:00\n"
     ]
    }
   ],
   "source": [
    "from langchain.prompts import (\n",
    "    ChatPromptTemplate,\n",
    "    PromptTemplate,\n",
    "    SystemMessagePromptTemplate,\n",
    "    AIMessagePromptTemplate,\n",
    "    HumanMessagePromptTemplate,\n",
    ")\n",
    "from datetime import datetime\n",
    "from langchain.llms import OpenAI\n",
    "from langchain.output_parsers import DatetimeOutputParser\n",
    "from langchain.chat_models import ChatOpenAI\n",
    "\n",
    "\n",
    "from langchain.chat_models import ChatOpenAI\n",
    "model=ChatOpenAI(openai_api_key=api_key)\n",
    "\n",
    "\n",
    "class HistoryQuiz():\n",
    "    def create_history_question(self,topic):\n",
    "        human_prompt=HumanMessagePromptTemplate.from_template('should give a historical question on about the topic {topic} that has only a date as the correct answer')\n",
    "        system_prompt=SystemMessagePromptTemplate.from_template(\"Should generate a question which has only date as the correct answer\")\n",
    "        chat_prompt=ChatPromptTemplate.from_messages([human_prompt])\n",
    "        model_request=chat_prompt.format_prompt(topic=topic).to_messages()\n",
    "        result=model(model_request,temperature=0)\n",
    "        return result.content\n",
    "\n",
    "    def get_ai_answer(self,question):\n",
    "        output_parsers=DatetimeOutputParser()\n",
    "        human_prompt=HumanMessagePromptTemplate.from_template(\"{request}\\n {format_instructions}\")\n",
    "        system_prompt=HumanMessagePromptTemplate.from_template(\"Should answer the question in only requested format\")\n",
    "        chat_prompt=ChatPromptTemplate.from_messages([human_prompt,system_prompt])\n",
    "        model_request=chat_prompt.format_prompt(request=question, format_instructions=output_parsers.get_format_instructions()).to_messages()\n",
    "        result=model(model_request,temperature=0)\n",
    "        print(result.content)\n",
    "        return output_parsers.parse(result.content)\n",
    "\n",
    "    def get_user_answer(self,question):\n",
    "        '''\n",
    "        This method should grab a user answer and convert it to datetime. It should collect a Year, Month, and Day.\n",
    "        You can just use input() for this.\n",
    "        '''\n",
    "        print(question)\n",
    "        \n",
    "\n",
    "        # Get the year, month, and day from the user\n",
    "        year = int(input(\"Enter the year: \"))\n",
    "        month = int(input(\"Enter the month (1-12): \"))\n",
    "        day = int(input(\"Enter the day (1-31): \"))\n",
    "\n",
    "        # Create a datetime object\n",
    "        user_datetime = datetime(year, month, day)\n",
    "\n",
    "        \n",
    "        return user_datetime\n",
    "\n",
    "    def check_user_answer(self,user_answer,ai_answer):\n",
    "        '''\n",
    "        Should check the user answer against the AI answer and return the difference between them\n",
    "        '''\n",
    "        \n",
    "        # Calculate the difference between the dates\n",
    "        difference = user_answer - ai_answer\n",
    "\n",
    "        # Format the difference into a string\n",
    "        formatted_difference = str(difference)\n",
    "\n",
    "        # Return the string reporting the difference\n",
    "        print(\"The difference between the dates is:\", formatted_difference)\n",
    "        \n",
    "\n",
    "quiz_bot=HistoryQuiz()\n",
    "question=quiz_bot.create_history_question(topic=\"India\")\n",
    "print(question)\n",
    "ai_answer=quiz_bot.get_ai_answer(question)\n",
    "print(ai_answer)\n",
    "user_answer = quiz_bot.get_user_answer(question)\n",
    "print(user_answer)\n",
    "quiz_bot.check_user_answer(user_answer,ai_answer)\n"
   ]
  },
  {
   "cell_type": "code",
   "execution_count": null,
   "id": "78140937-027d-4e04-a4c8-1d2d23733c39",
   "metadata": {},
   "outputs": [],
   "source": []
  },
  {
   "cell_type": "code",
   "execution_count": null,
   "id": "37d2eb8a-5ed1-4355-94f9-c590311cbed2",
   "metadata": {},
   "outputs": [],
   "source": []
  }
 ],
 "metadata": {
  "kernelspec": {
   "display_name": "Python 3 (ipykernel)",
   "language": "python",
   "name": "python3"
  },
  "language_info": {
   "codemirror_mode": {
    "name": "ipython",
    "version": 3
   },
   "file_extension": ".py",
   "mimetype": "text/x-python",
   "name": "python",
   "nbconvert_exporter": "python",
   "pygments_lexer": "ipython3",
   "version": "3.10.6"
  }
 },
 "nbformat": 4,
 "nbformat_minor": 5
}
